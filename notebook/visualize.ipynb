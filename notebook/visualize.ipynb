{
 "cells": [
  {
   "cell_type": "code",
   "execution_count": 9,
   "metadata": {},
   "outputs": [],
   "source": [
    "from collections import namedtuple, defaultdict\n",
    "import seaborn as sns\n",
    "import matplotlib.pyplot as plt\n",
    "import numpy as np"
   ]
  },
  {
   "cell_type": "code",
   "execution_count": 35,
   "metadata": {},
   "outputs": [],
   "source": [
    "\n",
    "\n",
    "Block = namedtuple(\"Block\", (\"sum_number\", \"positions\"))\n",
    "\n",
    "blocks = [\n",
    "    Block(4, [(1, 1), (2, 1), (1, 2)]),\n",
    "    Block(24, [(3, 1), (4, 1), (5, 1), (2, 2), (3, 2), (4, 2)]),\n",
    "    Block(5, [(5, 2), (5, 3), (4, 3)]),\n",
    "    Block(7, [(2, 3), (3, 3)]),\n",
    "    Block(12, [(1, 3), (1, 4), (1, 5)]),\n",
    "    Block(5, [(2, 4), (2, 5)]),\n",
    "    Block(4, [(3, 4), (3, 5), (4, 5)]),\n",
    "    Block(14, [(4, 4), (5, 4), (5, 5)]),\n",
    "]"
   ]
  },
  {
   "cell_type": "code",
   "execution_count": 31,
   "metadata": {},
   "outputs": [
    {
     "data": {
      "image/png": "[encoded data removed]",
      "text/plain": [
       "<Figure size 432x288 with 1 Axes>"
      ]
     },
     "metadata": {},
     "output_type": "display_data"
    }
   ],
   "source": [
    "ax= plt.subplot()\n",
    "sns.heatmap(np.array([[1, 2, 3], [4, 5, 6], [7, 8, 9]]), annot=np.array([[1, 2, 3], [4, 5, 6], [7, 8, 9]]) - 0, square=True, cbar=False, ax=ax, xticklabels=False, yticklabels=False)\n",
    "ax.set_ylim(3, 0)\n",
    "plt.show()"
   ]
  },
  {
   "cell_type": "code",
   "execution_count": 34,
   "metadata": {},
   "outputs": [],
   "source": [
    "size = 5\n"
   ]
  },
  {
   "cell_type": "code",
   "execution_count": 46,
   "metadata": {},
   "outputs": [],
   "source": [
    "def visualize(blocks, size=5):\n",
    "    board_group = np.zeros((size, size), dtype=np.int32)\n",
    "    board_sum_number = np.zeros((size, size), dtype=np.int32)\n",
    "\n",
    "    for i, block in enumerate(blocks):\n",
    "        for x, y in block.positions:\n",
    "            board_group[y-1, x-1] = i\n",
    "            board_sum_number[y-1, x-1] = block.sum_number\n",
    "    print(board_group)\n",
    "    print(board_sum_number)\n",
    "    ax= plt.subplot()\n",
    "    sns.heatmap(board_group, annot=board_sum_number, square=True, cbar=False, ax=ax, xticklabels=False, yticklabels=False)\n",
    "    ax.set_ylim(size, 0)\n",
    "    plt.show()"
   ]
  },
  {
   "cell_type": "code",
   "execution_count": 47,
   "metadata": {},
   "outputs": [
    {
     "name": "stdout",
     "output_type": "stream",
     "text": [
      "[[0 0 1 1 1]\n",
      " [0 1 1 1 2]\n",
      " [4 3 3 2 2]\n",
      " [4 5 6 7 7]\n",
      " [4 5 6 6 7]]\n",
      "[[ 4  4 24 24 24]\n",
      " [ 4 24 24 24  5]\n",
      " [12  7  7  5  5]\n",
      " [12  5  4 14 14]\n",
      " [12  5  4  4 14]]\n"
     ]
    },
    {
     "data": {
      "image/png": "[encoded data removed]",
      "text/plain": [
       "<Figure size 432x288 with 1 Axes>"
      ]
     },
     "metadata": {},
     "output_type": "display_data"
    }
   ],
   "source": [
    "visualize(blocks)"
   ]
  },
  {
   "cell_type": "code",
   "execution_count": null,
   "metadata": {},
   "outputs": [],
   "source": []
  }
 ],
 "metadata": {
  "kernelspec": {
   "display_name": "Python 3",
   "language": "python",
   "name": "python3"
  },
  "language_info": {
   "codemirror_mode": {
    "name": "ipython",
    "version": 3
   },
   "file_extension": ".py",
   "mimetype": "text/x-python",
   "name": "python",
   "nbconvert_exporter": "python",
   "pygments_lexer": "ipython3",
   "version": "3.7.3"
  }
 },
 "nbformat": 4,
 "nbformat_minor": 4
}
