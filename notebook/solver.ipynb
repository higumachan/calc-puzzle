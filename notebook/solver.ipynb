{
 "cells": [
  {
   "cell_type": "markdown",
   "metadata": {},
   "source": [
    "参考記事\n",
    "\n",
    "https://qiita.com/mzmttks/items/9cca88cdd430e0470c8e"
   ]
  },
  {
   "cell_type": "code",
   "execution_count": 94,
   "metadata": {},
   "outputs": [],
   "source": [
    "import pulp\n",
    "from collections import namedtuple, defaultdict"
   ]
  },
  {
   "cell_type": "code",
   "execution_count": 95,
   "metadata": {},
   "outputs": [],
   "source": [
    "prob = pulp.LpProblem(\"PlusPuzzle\", pulp.LpMinimize)\n",
    "prob += 0"
   ]
  },
  {
   "cell_type": "code",
   "execution_count": 96,
   "metadata": {},
   "outputs": [],
   "source": [
    "size = 5\n",
    "\n",
    "numbers = range(1, size + 1) # [1, 6)\n",
    "xs = range(1, size + 1)\n",
    "ys = range(1, size + 1)\n",
    "\n",
    "choices = pulp.LpVariable.dicts(\"Cell\", (xs, ys, numbers), 0, 1, pulp.LpInteger)"
   ]
  },
  {
   "cell_type": "code",
   "execution_count": 97,
   "metadata": {},
   "outputs": [],
   "source": [
    "# 1つのマスに入る値は1つだけ\n",
    "\n",
    "for y in xs:\n",
    "    for x in ys:\n",
    "        prob += pulp.lpSum([choices[v][x][y] for v in numbers]) == 1"
   ]
  },
  {
   "cell_type": "code",
   "execution_count": 98,
   "metadata": {},
   "outputs": [],
   "source": [
    "for v in numbers:\n",
    "    for y in ys:\n",
    "        prob += pulp.lpSum([choices[v][x][y] for x in xs]) == 1\n",
    "\n",
    "for v in numbers:\n",
    "    for x in xs:\n",
    "        prob += pulp.lpSum([choices[v][x][y] for y in ys]) == 1\n"
   ]
  },
  {
   "cell_type": "code",
   "execution_count": 99,
   "metadata": {},
   "outputs": [],
   "source": [
    "# 問題のブロックの定義\n",
    "\n",
    "Block = namedtuple(\"Block\", (\"sum_number\", \"positions\"))\n",
    "\n",
    "blocks = [\n",
    "    Block(4, [(1, 1), (2, 1), (1, 2)]),\n",
    "    Block(24, [(3, 1), (4, 1), (5, 1), (2, 2), (3, 2), (4, 2)]),\n",
    "    Block(5, [(5, 2), (5, 3), (4, 3)]),\n",
    "    Block(7, [(2, 3), (3, 3)]),\n",
    "    Block(12, [(1, 3), (1, 4), (1, 5)]),\n",
    "    Block(5, [(2, 4), (2, 5)]),\n",
    "    Block(4, [(3, 4), (3, 5), (4, 5)]),\n",
    "    Block(14, [(4, 4), (5, 4), (5, 5)]),\n",
    "]"
   ]
  },
  {
   "cell_type": "code",
   "execution_count": 100,
   "metadata": {},
   "outputs": [
    {
     "data": {
      "text/plain": [
       "False"
      ]
     },
     "execution_count": 100,
     "metadata": {},
     "output_type": "execute_result"
    }
   ],
   "source": [
    "def validate_blocks(blocks):\n",
    "    d = defaultdict(lambda: 0)\n",
    "    for b in blocks:\n",
    "        for p in b.positions:\n",
    "            d[p] += 1\n",
    "    \n",
    "    for p in zip(xs, ys):\n",
    "        if d[p] != 1:\n",
    "            break\n",
    "    else:\n",
    "        return True\n",
    "    return False\n",
    "\n",
    "validate_blocks([])"
   ]
  },
  {
   "cell_type": "code",
   "execution_count": 101,
   "metadata": {},
   "outputs": [
    {
     "data": {
      "text/plain": [
       "True"
      ]
     },
     "execution_count": 101,
     "metadata": {},
     "output_type": "execute_result"
    }
   ],
   "source": [
    "validate_blocks(blocks)"
   ]
  },
  {
   "cell_type": "code",
   "execution_count": 102,
   "metadata": {},
   "outputs": [],
   "source": [
    "# 問題のブロックの制約を追加\n",
    "\n",
    "for block in blocks:\n",
    "    prob += pulp.lpSum([v * choices[v][x][y] for v in numbers for x, y in block.positions]) == block.sum_number"
   ]
  },
  {
   "cell_type": "code",
   "execution_count": 105,
   "metadata": {},
   "outputs": [
    {
     "name": "stdout",
     "output_type": "stream",
     "text": [
      "CPU times: user 6.76 ms, sys: 5.02 ms, total: 11.8 ms\n",
      "Wall time: 23.8 ms\n"
     ]
    }
   ],
   "source": [
    "%%time\n",
    "\n",
    "s = prob.solve()"
   ]
  },
  {
   "cell_type": "code",
   "execution_count": 106,
   "metadata": {},
   "outputs": [
    {
     "name": "stdout",
     "output_type": "stream",
     "text": [
      "Optimal\n"
     ]
    }
   ],
   "source": [
    "print(pulp.LpStatus[s])"
   ]
  },
  {
   "cell_type": "code",
   "execution_count": 107,
   "metadata": {},
   "outputs": [
    {
     "name": "stdout",
     "output_type": "stream",
     "text": [
      "2 1 5 4 3 \n",
      "1 5 4 3 2 \n",
      "5 4 3 2 1 \n",
      "3 2 1 5 4 \n",
      "4 3 2 1 5 \n"
     ]
    }
   ],
   "source": [
    "for y in ys:\n",
    "    for x in xs:\n",
    "        for v in numbers:\n",
    "            if choices[v][x][y].value() == 1:\n",
    "                print(v, end=\" \")\n",
    "    print()"
   ]
  },
  {
   "cell_type": "markdown",
   "metadata": {},
   "source": []
  }
 ],
 "metadata": {
  "kernelspec": {
   "display_name": "Python 3",
   "language": "python",
   "name": "python3"
  },
  "language_info": {
   "codemirror_mode": {
    "name": "ipython",
    "version": 3
   },
   "file_extension": ".py",
   "mimetype": "text/x-python",
   "name": "python",
   "nbconvert_exporter": "python",
   "pygments_lexer": "ipython3",
   "version": "3.7.3"
  }
 },
 "nbformat": 4,
 "nbformat_minor": 4
}
