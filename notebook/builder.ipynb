{
 "cells": [
  {
   "cell_type": "code",
   "execution_count": 3,
   "metadata": {},
   "outputs": [],
   "source": [
    "import sys\n",
    "\n",
    "sys.path.append(\"..\")"
   ]
  },
  {
   "cell_type": "code",
   "execution_count": 127,
   "metadata": {},
   "outputs": [],
   "source": [
    "from calc_puzzle.solver import solve, is_unique\n",
    "from calc_puzzle.types import Block, Problem\n",
    "from calc_puzzle.visualize import visualize\n",
    "\n",
    "import random\n",
    "import numpy as np\n",
    "import pulp\n",
    "import copy"
   ]
  },
  {
   "cell_type": "code",
   "execution_count": 62,
   "metadata": {},
   "outputs": [],
   "source": [
    "def create_random_answer_board(size, seed_size=5):\n",
    "    all_numbers = set(range(0, size))\n",
    "    vertical = [set([]) for _ in range(size)]\n",
    "    horizontal = [set([]) for _ in range(size)]\n",
    "    \n",
    "    answer_board = None\n",
    "    s = -1\n",
    "    while s != 1:\n",
    "        positions = [(x, y) for y in range(size) for x in range(size)]\n",
    "        random.shuffle(positions)\n",
    "\n",
    "        answer_board = -np.ones((size, size), dtype=np.int32)\n",
    "\n",
    "        for x, y in positions[:seed_size]:\n",
    "            l = list(all_numbers - (vertical[x] | horizontal[y]))\n",
    "            if len(l) == 0:\n",
    "                continue\n",
    "            v = random.choice(list(all_numbers - (vertical[x] | horizontal[y])))\n",
    "\n",
    "            answer_board[y, x] = v\n",
    "            vertical[x].add(v)\n",
    "            horizontal[y].add(v)\n",
    "\n",
    "        answer_board[answer_board != -1] += 1\n",
    "        prob = pulp.LpProblem(\"AnswerBoard\", pulp.LpMinimize)\n",
    "        prob += 0\n",
    "\n",
    "        size = size\n",
    "        numbers = range(1, size + 1)  # [1, 6)\n",
    "        xs = range(1, size + 1)\n",
    "        ys = range(1, size + 1)\n",
    "\n",
    "        choices = pulp.LpVariable.dicts(\"Cell\", (numbers, xs, ys), 0, 1, pulp.LpInteger)\n",
    "\n",
    "        # 1つのマスに入る値は1つだけ\n",
    "\n",
    "        for y in xs:\n",
    "            for x in ys:\n",
    "                prob += pulp.lpSum([choices[v][x][y] for v in numbers]) == 1\n",
    "\n",
    "        for v in numbers:\n",
    "            for y in ys:\n",
    "                prob += pulp.lpSum([choices[v][x][y] for x in xs]) == 1\n",
    "\n",
    "        for v in numbers:\n",
    "            for x in xs:\n",
    "                prob += pulp.lpSum([choices[v][x][y] for y in ys]) == 1\n",
    "\n",
    "        for y in range(size):\n",
    "            for x in range(size):\n",
    "                if answer_board[y, x] != -1:\n",
    "                    prob += choices[answer_board[y, x]][x + 1][y + 1] == 1\n",
    "\n",
    "        s = prob.solve()\n",
    "        answer_board = np.zeros((size, size), dtype=np.int32)\n",
    "        for y in ys:\n",
    "            for x in xs:\n",
    "                for v in numbers:\n",
    "                    if choices[v][x][y].value() == 1:\n",
    "                        answer_board[y-1][x-1] = v\n",
    "    return answer_board"
   ]
  },
  {
   "cell_type": "code",
   "execution_count": 102,
   "metadata": {},
   "outputs": [],
   "source": [
    "answer_board = create_random_answer_board(5)"
   ]
  },
  {
   "cell_type": "code",
   "execution_count": 103,
   "metadata": {},
   "outputs": [
    {
     "name": "stdout",
     "output_type": "stream",
     "text": [
      "[[5 2 4 3 1]\n",
      " [2 1 5 4 3]\n",
      " [4 5 3 1 2]\n",
      " [3 4 1 2 5]\n",
      " [1 3 2 5 4]]\n"
     ]
    }
   ],
   "source": [
    "print(answer_board)"
   ]
  },
  {
   "cell_type": "code",
   "execution_count": 161,
   "metadata": {},
   "outputs": [],
   "source": [
    "def md(p1, p2):\n",
    "    return abs(p1[0] - p2[0]) + abs(p1[1] - p2[1])"
   ]
  },
  {
   "cell_type": "code",
   "execution_count": 284,
   "metadata": {},
   "outputs": [],
   "source": [
    "def split_answer_board(num_centroids, answer_board):\n",
    "    size = answer_board.shape[0]\n",
    "    positions = [(x, y) for y in range(size) for x in range(size)]\n",
    "    shuffled_positions = copy.deepcopy(positions)\n",
    "    random.shuffle(shuffled_positions)\n",
    "    centroids = shuffled_positions[:num_centroids]\n",
    "    \n",
    "    blocks = [[0, []]for _ in range(num_centroids)]\n",
    "\n",
    "    for x, y in positions:\n",
    "        r = np.array([md((x, y), c) for c in centroids]).argmin()\n",
    "        b = blocks[r]\n",
    "        b[0] += answer_board[y, x]\n",
    "        b[1].append((x + 1, y + 1))\n",
    "    blocks = list(map(lambda x: Block(*x), blocks))\n",
    "    \n",
    "    return blocks, centroids"
   ]
  },
  {
   "cell_type": "code",
   "execution_count": 285,
   "metadata": {},
   "outputs": [],
   "source": [
    "while True:\n",
    "    blocks,centroids = split_answer_board(num_centroids, answer_board)\n",
    "    if is_unique(Problem(5, blocks)):\n",
    "        break"
   ]
  },
  {
   "cell_type": "code",
   "execution_count": 286,
   "metadata": {},
   "outputs": [
    {
     "data": {
      "text/plain": [
       "[Block(sum_number=21, positions=[(2, 1), (3, 1), (2, 2), (3, 2), (2, 3), (2, 4)]),\n",
       " Block(sum_number=11, positions=[(4, 1), (5, 1), (4, 2), (5, 2)]),\n",
       " Block(sum_number=10, positions=[(3, 4), (4, 4), (3, 5), (4, 5)]),\n",
       " Block(sum_number=6, positions=[(3, 3), (4, 3), (5, 3)]),\n",
       " Block(sum_number=6, positions=[(1, 2), (1, 3)]),\n",
       " Block(sum_number=9, positions=[(5, 4), (5, 5)]),\n",
       " Block(sum_number=7, positions=[(1, 4), (1, 5), (2, 5)]),\n",
       " Block(sum_number=5, positions=[(1, 1)])]"
      ]
     },
     "execution_count": 286,
     "metadata": {},
     "output_type": "execute_result"
    }
   ],
   "source": [
    "blocks"
   ]
  },
  {
   "cell_type": "code",
   "execution_count": 287,
   "metadata": {},
   "outputs": [
    {
     "data": {
      "text/plain": [
       "[(1, 1), (3, 1), (3, 3), (3, 2), (0, 1), (4, 3), (0, 4), (0, 0)]"
      ]
     },
     "execution_count": 287,
     "metadata": {},
     "output_type": "execute_result"
    }
   ],
   "source": [
    "centroids"
   ]
  },
  {
   "cell_type": "code",
   "execution_count": 288,
   "metadata": {},
   "outputs": [
    {
     "data": {
      "image/png": "[encoded data removed]",
      "text/plain": [
       "<Figure size 432x288 with 1 Axes>"
      ]
     },
     "execution_count": 288,
     "metadata": {},
     "output_type": "execute_result"
    }
   ],
   "source": [
    "visualize(blocks, 5)"
   ]
  },
  {
   "cell_type": "code",
   "execution_count": 278,
   "metadata": {},
   "outputs": [
    {
     "data": {
      "text/plain": [
       "array([[5, 2, 4, 3, 1],\n",
       "       [2, 1, 5, 4, 3],\n",
       "       [4, 5, 3, 1, 2],\n",
       "       [3, 4, 1, 2, 5],\n",
       "       [1, 3, 2, 5, 4]], dtype=int32)"
      ]
     },
     "execution_count": 278,
     "metadata": {},
     "output_type": "execute_result"
    }
   ],
   "source": [
    "answer_board"
   ]
  },
  {
   "cell_type": "code",
   "execution_count": 259,
   "metadata": {},
   "outputs": [
    {
     "data": {
      "text/plain": [
       "True"
      ]
     },
     "execution_count": 259,
     "metadata": {},
     "output_type": "execute_result"
    }
   ],
   "source": [
    "is_unique(Problem(5, blocks))"
   ]
  },
  {
   "cell_type": "code",
   "execution_count": null,
   "metadata": {},
   "outputs": [],
   "source": []
  }
 ],
 "metadata": {
  "kernelspec": {
   "display_name": "Python 3",
   "language": "python",
   "name": "python3"
  },
  "language_info": {
   "codemirror_mode": {
    "name": "ipython",
    "version": 3
   },
   "file_extension": ".py",
   "mimetype": "text/x-python",
   "name": "python",
   "nbconvert_exporter": "python",
   "pygments_lexer": "ipython3",
   "version": "3.7.3"
  }
 },
 "nbformat": 4,
 "nbformat_minor": 4
}
